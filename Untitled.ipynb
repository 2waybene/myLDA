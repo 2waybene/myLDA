{
 "cells": [
  {
   "cell_type": "code",
   "execution_count": 1,
   "id": "ce757b14",
   "metadata": {},
   "outputs": [],
   "source": [
    "# T-test\n",
    "\n",
    "import scipy.stats as stats\n",
    "\n",
    "#perform the paired samples t-test\n",
    "stats.ttest_rel(pre, post)\n",
    "pre = [88, 82, 84, 93, 75, 78, 84, 87, 95, 91, 83, 89, 77, 68, 91]\n",
    "post = [91, 84, 88, 90, 79, 80, 88, 90, 90, 96, 88, 89, 81, 74, 92]\n"
   ]
  },
  {
   "cell_type": "code",
   "execution_count": 3,
   "id": "269bda46",
   "metadata": {},
   "outputs": [
    {
     "data": {
      "text/plain": [
       "TtestResult(statistic=-2.9732484231168796, pvalue=0.01007144862643272, df=14)"
      ]
     },
     "execution_count": 3,
     "metadata": {},
     "output_type": "execute_result"
    }
   ],
   "source": [
    "import scipy.stats as stats\n",
    "\n",
    "#perform the paired samples t-test\n",
    "stats.ttest_rel(pre, post)\n",
    "\n",
    "# (statistic=-2.9732, pvalue=0.0101)"
   ]
  },
  {
   "cell_type": "code",
   "execution_count": null,
   "id": "da778615",
   "metadata": {},
   "outputs": [],
   "source": []
  }
 ],
 "metadata": {
  "kernelspec": {
   "display_name": "Python 3 (ipykernel)",
   "language": "python",
   "name": "python3"
  },
  "language_info": {
   "codemirror_mode": {
    "name": "ipython",
    "version": 3
   },
   "file_extension": ".py",
   "mimetype": "text/x-python",
   "name": "python",
   "nbconvert_exporter": "python",
   "pygments_lexer": "ipython3",
   "version": "3.11.4"
  }
 },
 "nbformat": 4,
 "nbformat_minor": 5
}
